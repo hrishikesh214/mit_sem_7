{
 "cells": [
  {
   "cell_type": "markdown",
   "metadata": {},
   "source": [
    "### Python theory assgn\n",
    "PB04 Hrishikesh Vaze"
   ]
  },
  {
   "cell_type": "markdown",
   "metadata": {},
   "source": [
    "#### Q1\n",
    "1We have two sorted lists, and write a function to merge the two lists into one sorted list:\n",
    "```py\n",
    "abc = [3, 4, 6, 10, 11, 18]\n",
    "xyz = [1, 5, 7, 12, 13, 19, 21]\n",
    "```"
   ]
  },
  {
   "cell_type": "code",
   "execution_count": 18,
   "metadata": {},
   "outputs": [
    {
     "name": "stdout",
     "output_type": "stream",
     "text": [
      "[1, 3, 4, 5, 6, 7, 10, 11, 12, 13, 18, 19, 21]\n"
     ]
    }
   ],
   "source": [
    "def merge_sorted_list(a,b):\n",
    "    c = []\n",
    "    while len(a) > 0 and len(b) > 0:\n",
    "        if a[0] < b[0]:\n",
    "            c.append(a[0])\n",
    "            a.pop(0)\n",
    "        else:\n",
    "            c.append(b[0])\n",
    "            b.pop(0)\n",
    "    if len(a) > 0:\n",
    "        c.extend(a)\n",
    "    if len(b) > 0:\n",
    "        c.extend(b)\n",
    "    return c\n",
    "\n",
    "abc = [3, 4, 6, 10, 11, 18]\n",
    "xyz = [1, 5, 7, 12, 13, 19, 21]\n",
    "merged_list = merge_sorted_list(abc,xyz)\n",
    "print(merged_list)"
   ]
  },
  {
   "cell_type": "markdown",
   "metadata": {},
   "source": [
    "#### Q2\n",
    "Write a Python program to create all possible strings by using 'a', 'e', 'i', 'o', 'u'. Use the characters exactly once"
   ]
  },
  {
   "cell_type": "code",
   "execution_count": 19,
   "metadata": {},
   "outputs": [
    {
     "name": "stdout",
     "output_type": "stream",
     "text": [
      "['a', 'e', 'i', 'o', 'u', 'ae', 'ai', 'ao', 'au', 'ei', 'eo', 'eu', 'io', 'iu', 'ou', 'aei', 'aeo', 'aeu', 'aio', 'aiu', 'aou', 'eio', 'eiu', 'eou', 'iou', 'aeio', 'aeiu', 'aeou', 'aiou', 'eiou', 'aeiou']\n"
     ]
    }
   ],
   "source": [
    "import itertools\n",
    "\n",
    "def create_strings(alphabet_list):\n",
    "    x = []\n",
    "    for i in range(1, len(alphabet_list)+1):\n",
    "        for j in itertools.combinations(alphabet_list, i):\n",
    "            x.append(''.join(j))\n",
    "    return x\n",
    "\n",
    "vowels = ['a', 'e', 'i', 'o', 'u']\n",
    "possible_strings = create_strings(vowels)\n",
    "print(possible_strings)\n"
   ]
  },
  {
   "cell_type": "markdown",
   "metadata": {},
   "source": [
    "#### Q3\n",
    "Write a Python program to remove and print every third number from a list of numbers until the list becomes empty."
   ]
  },
  {
   "cell_type": "code",
   "execution_count": 20,
   "metadata": {},
   "outputs": [
    {
     "name": "stdout",
     "output_type": "stream",
     "text": [
      "Removed:  30\n",
      "Removed:  60\n",
      "Removed:  90\n",
      "[10, 20, 40, 50, 70, 80]\n"
     ]
    }
   ],
   "source": [
    "def remove_and_print_third_number(numbers):\n",
    "    i = 2\n",
    "    while i < len(numbers):\n",
    "        print('Removed: ', numbers[i])\n",
    "        numbers.pop(i)\n",
    "        i += 2\n",
    "    return numbers\n",
    "\n",
    "numbers = [10, 20, 30, 40, 50, 60, 70, 80, 90]\n",
    "print(remove_and_print_third_number(numbers))"
   ]
  },
  {
   "cell_type": "markdown",
   "metadata": {},
   "source": [
    "#### Q4\n",
    "Elaborate with proper example different types of errors in python programming."
   ]
  },
  {
   "cell_type": "code",
   "execution_count": 21,
   "metadata": {},
   "outputs": [
    {
     "ename": "SyntaxError",
     "evalue": "cannot assign to literal here. Maybe you meant '==' instead of '='? (2705454847.py, line 2)",
     "output_type": "error",
     "traceback": [
      "\u001b[1;36m  Cell \u001b[1;32mIn [21], line 2\u001b[1;36m\u001b[0m\n\u001b[1;33m    if 1 = 1:\u001b[0m\n\u001b[1;37m       ^\u001b[0m\n\u001b[1;31mSyntaxError\u001b[0m\u001b[1;31m:\u001b[0m cannot assign to literal here. Maybe you meant '==' instead of '='?\n"
     ]
    }
   ],
   "source": [
    "# 1. syntax error\n",
    "if 1 = 1:\n",
    "    print('1 is equal to 1')"
   ]
  },
  {
   "cell_type": "code",
   "execution_count": null,
   "metadata": {},
   "outputs": [
    {
     "name": "stdout",
     "output_type": "stream",
     "text": [
      "0.5\n",
      "1.0\n"
     ]
    },
    {
     "ename": "ZeroDivisionError",
     "evalue": "division by zero",
     "output_type": "error",
     "traceback": [
      "\u001b[1;31m---------------------------------------------------------------------------\u001b[0m",
      "\u001b[1;31mZeroDivisionError\u001b[0m                         Traceback (most recent call last)",
      "Cell \u001b[1;32mIn [10], line 4\u001b[0m\n\u001b[0;32m      2\u001b[0m i \u001b[39m=\u001b[39m \u001b[39m2\u001b[39m\n\u001b[0;32m      3\u001b[0m \u001b[39mwhile\u001b[39;00m i \u001b[39m>\u001b[39m\u001b[39m=\u001b[39m \u001b[39m0\u001b[39m:\n\u001b[1;32m----> 4\u001b[0m     \u001b[39mprint\u001b[39m(\u001b[39m1\u001b[39;49m\u001b[39m/\u001b[39;49mi)\n\u001b[0;32m      5\u001b[0m     i \u001b[39m-\u001b[39m\u001b[39m=\u001b[39m \u001b[39m1\u001b[39m\n",
      "\u001b[1;31mZeroDivisionError\u001b[0m: division by zero"
     ]
    }
   ],
   "source": [
    "# 2. runtime error\n",
    "i = 2\n",
    "while i >= 0:\n",
    "    print(1/i)\n",
    "    i -= 1"
   ]
  },
  {
   "cell_type": "code",
   "execution_count": null,
   "metadata": {},
   "outputs": [
    {
     "ename": "IndexError",
     "evalue": "list index out of range",
     "output_type": "error",
     "traceback": [
      "\u001b[1;31m---------------------------------------------------------------------------\u001b[0m",
      "\u001b[1;31mIndexError\u001b[0m                                Traceback (most recent call last)",
      "Cell \u001b[1;32mIn [12], line 3\u001b[0m\n\u001b[0;32m      1\u001b[0m \u001b[39m# 3. index error\u001b[39;00m\n\u001b[0;32m      2\u001b[0m a \u001b[39m=\u001b[39m [\u001b[39m1\u001b[39m, \u001b[39m2\u001b[39m, \u001b[39m3\u001b[39m]\n\u001b[1;32m----> 3\u001b[0m \u001b[39mprint\u001b[39m(a[\u001b[39m3\u001b[39;49m])\n",
      "\u001b[1;31mIndexError\u001b[0m: list index out of range"
     ]
    }
   ],
   "source": [
    "# 3. index error\n",
    "a = [1, 2, 3]\n",
    "print(a[3])"
   ]
  },
  {
   "cell_type": "code",
   "execution_count": null,
   "metadata": {},
   "outputs": [
    {
     "ename": "TypeError",
     "evalue": "unsupported operand type(s) for +: 'int' and 'str'",
     "output_type": "error",
     "traceback": [
      "\u001b[1;31m---------------------------------------------------------------------------\u001b[0m",
      "\u001b[1;31mTypeError\u001b[0m                                 Traceback (most recent call last)",
      "Cell \u001b[1;32mIn [13], line 4\u001b[0m\n\u001b[0;32m      2\u001b[0m a \u001b[39m=\u001b[39m \u001b[39m1\u001b[39m\n\u001b[0;32m      3\u001b[0m b \u001b[39m=\u001b[39m \u001b[39m'\u001b[39m\u001b[39m1\u001b[39m\u001b[39m'\u001b[39m\n\u001b[1;32m----> 4\u001b[0m \u001b[39mprint\u001b[39m(a \u001b[39m+\u001b[39;49m b)\n",
      "\u001b[1;31mTypeError\u001b[0m: unsupported operand type(s) for +: 'int' and 'str'"
     ]
    }
   ],
   "source": [
    "# 4. type error\n",
    "a = 1\n",
    "b = '1'\n",
    "print(a + b)"
   ]
  },
  {
   "cell_type": "code",
   "execution_count": null,
   "metadata": {},
   "outputs": [
    {
     "ename": "NameError",
     "evalue": "name 'fg' is not defined",
     "output_type": "error",
     "traceback": [
      "\u001b[1;31m---------------------------------------------------------------------------\u001b[0m",
      "\u001b[1;31mNameError\u001b[0m                                 Traceback (most recent call last)",
      "Cell \u001b[1;32mIn [16], line 2\u001b[0m\n\u001b[0;32m      1\u001b[0m \u001b[39m# 5. name error\u001b[39;00m\n\u001b[1;32m----> 2\u001b[0m \u001b[39mprint\u001b[39m(fg)\n",
      "\u001b[1;31mNameError\u001b[0m: name 'fg' is not defined"
     ]
    }
   ],
   "source": [
    "# 5. name error\n",
    "print(fg)"
   ]
  }
 ],
 "metadata": {
  "kernelspec": {
   "display_name": "Python 3.10.8 64-bit (microsoft store)",
   "language": "python",
   "name": "python3"
  },
  "language_info": {
   "codemirror_mode": {
    "name": "ipython",
    "version": 3
   },
   "file_extension": ".py",
   "mimetype": "text/x-python",
   "name": "python",
   "nbconvert_exporter": "python",
   "pygments_lexer": "ipython3",
   "version": "3.10.8"
  },
  "orig_nbformat": 4,
  "vscode": {
   "interpreter": {
    "hash": "0376bea43f7b8eb193429db2b54842054cdffc92475d65efe4d200d71906e4bf"
   }
  }
 },
 "nbformat": 4,
 "nbformat_minor": 2
}
