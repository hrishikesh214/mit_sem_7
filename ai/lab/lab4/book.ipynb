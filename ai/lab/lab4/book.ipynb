{
 "cells": [
  {
   "cell_type": "markdown",
   "metadata": {},
   "source": [
    "# Unification using python"
   ]
  },
  {
   "cell_type": "code",
   "execution_count": null,
   "metadata": {},
   "outputs": [],
   "source": [
    "s1 = \"p(x,y)\"\n",
    "s2 = \"p(a,a)\""
   ]
  },
  {
   "cell_type": "code",
   "execution_count": null,
   "metadata": {},
   "outputs": [
    {
     "data": {
      "text/plain": [
       "('p', ['x', 'y', ' f(m,n)'], ['a', 'c(d)', ' f(l,g)'])"
      ]
     },
     "execution_count": 4,
     "metadata": {},
     "output_type": "execute_result"
    }
   ],
   "source": [
    "def decode_exprs(s1, s2):\n",
    "    global_func_name = s1[:s1.find(\"(\")]\n",
    "    s1_params = s1[s1.find(\"(\")+1:(len(s1) -1- s1[::-1].find(\")\"))]\n",
    "    s2_params = s2[s2.find(\"(\")+1:(len(s2) -1- s2[::-1].find(\")\"))]\n",
    "\n",
    "    def separate_params(s):\n",
    "        new_s = \"\"\n",
    "        is_bracket_on = False\n",
    "        for i in range(len(s)):\n",
    "            if s[i] == \"(\":\n",
    "                is_bracket_on = True\n",
    "            if s[i] == \")\":\n",
    "                is_bracket_on = False\n",
    "            if s[i] == \",\" and not is_bracket_on:\n",
    "                new_s += \":\"\n",
    "            else:\n",
    "                new_s += s[i]\n",
    "        return new_s.split(\":\")\n",
    "\n",
    "    return global_func_name, separate_params(s1_params), separate_params(s2_params)\n",
    "decode_exprs(s1, s2)"
   ]
  },
  {
   "cell_type": "code",
   "execution_count": null,
   "metadata": {},
   "outputs": [],
   "source": [
    "def is_functional_safe(f1, f2):\n",
    "    if ('(' not in f1 and '(' not in f2):\n",
    "        return True\n",
    "    fglobal, f1_params, f2_params = decode_exprs(f1, f2)\n",
    "    if len(f1_params) != len(f2_params):\n",
    "        return False\n",
    "    # print('x:',fglobal, f1_params, f2_params)\n",
    "    return True"
   ]
  },
  {
   "cell_type": "code",
   "execution_count": null,
   "metadata": {},
   "outputs": [],
   "source": [
    "def unify(s1, s2, is_reverse=False):\n",
    "    '''\n",
    "    lets assume that second expression is the one we want to make substitutions in\n",
    "    and first expression is the one we want to substitute\n",
    "    we will make a dictionary of substitutions\n",
    "    '''\n",
    "    global_func_name,s1_params, s2_params = decode_exprs(s1, s2)\n",
    "    substitutions = {}\n",
    "    arg_list = []\n",
    "    s1p = 0\n",
    "    if len(s1_params) != len(s2_params):\n",
    "        print('Parameter count mismatch')\n",
    "        return None\n",
    "    while s1p < len(s1_params):\n",
    "        if s1_params[s1p] != s2_params[s1p]:\n",
    "            if s1_params[s1p] in substitutions.keys():\n",
    "                if substitutions[s1_params[s1p]] != s2_params[s1p]:\n",
    "                    print(f'Ambiguos Substitution for {s1_params[s1p]} : {substitutions[s1_params[s1p]]} and {s2_params[s1p]}')\n",
    "                    return None\n",
    "            else:\n",
    "                if not is_functional_safe(s1_params[s1p], s2_params[s1p]):\n",
    "                    print(f'Functional mismatch: {s1_params[s1p]} and {s2_params[s1p]}')\n",
    "                    return None\n",
    "                substitutions[s1_params[s1p]] = s2_params[s1p]\n",
    "                arg_list.append(s1_params[s1p])\n",
    "\n",
    "        s1p+=1\n",
    "    sub_list = []\n",
    "    for k,v in substitutions.items():\n",
    "        sub_list.append(f'{v}/{k}')\n",
    "\n",
    "    # lets check the other way around\n",
    "    reverse_result = True\n",
    "    if not is_reverse:\n",
    "        reverse_result = unify(s2, s1, True)\n",
    "    \n",
    "    # both ways should work\n",
    "    if reverse_result is None:\n",
    "        return None\n",
    "    \n",
    "    return sub_list, arg_list\n"
   ]
  },
  {
   "cell_type": "code",
   "execution_count": null,
   "metadata": {},
   "outputs": [
    {
     "name": "stdout",
     "output_type": "stream",
     "text": [
      "Ambiguos Substitution for a : x and y\n",
      "Cannot unify p(x,y) and p(a,a)\n"
     ]
    }
   ],
   "source": [
    "result = unify(s1, s2)\n",
    "if result is None:\n",
    "    print(f'Cannot unify {s1} and {s2}')\n",
    "else:\n",
    "    print(f'Unification result: {s1}')\n",
    "    print(f'Substitutions: {result[0]}')"
   ]
  }
 ],
 "metadata": {
  "kernelspec": {
   "display_name": "Python 3.10.8 64-bit (microsoft store)",
   "language": "python",
   "name": "python3"
  },
  "language_info": {
   "codemirror_mode": {
    "name": "ipython",
    "version": 3
   },
   "file_extension": ".py",
   "mimetype": "text/x-python",
   "name": "python",
   "nbconvert_exporter": "python",
   "pygments_lexer": "ipython3",
   "version": "3.10.8"
  },
  "orig_nbformat": 4,
  "vscode": {
   "interpreter": {
    "hash": "e0acaf148705ed9ed86cc5cad12259d7985e30670e5686e5f55604a9b3b84a55"
   }
  }
 },
 "nbformat": 4,
 "nbformat_minor": 2
}
