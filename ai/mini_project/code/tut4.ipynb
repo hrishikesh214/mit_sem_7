{
 "cells": [
  {
   "cell_type": "code",
   "execution_count": 5,
   "metadata": {},
   "outputs": [],
   "source": [
    "import tensorflow as tf\n",
    "import numpy as np\n",
    "import nltk"
   ]
  },
  {
   "cell_type": "code",
   "execution_count": 18,
   "metadata": {},
   "outputs": [],
   "source": [
    "para = \"\"\"i am hrishikesh. mhy age is 21. i am studing in mitwpu. ok who are you?\n",
    "The form and function of temples are thus very variable, though they are often considered by believers to be, in some sense, the \"house\" of one or more deities. Typically, offerings of some sort are made to the deity, and other rituals are enacted, and a special group of clergy maintain and operate the temple. The degree to which the whole population of believers can access the building varies significantly; often parts, or even the whole main building. can only be accessed by the clergy. Temples typically have a main building and a larger precinct, which may contain many other buildings or may be a dome-shaped structure, much like an igloo.\n",
    "\"\"\""
   ]
  },
  {
   "cell_type": "code",
   "execution_count": 19,
   "metadata": {},
   "outputs": [
    {
     "data": {
      "text/plain": [
       "['i am hrishikesh.',\n",
       " 'mhy age is 21. i am studing in mitwpu.',\n",
       " 'ok who are you?',\n",
       " 'The form and function of temples are thus very variable, though they are often considered by believers to be, in some sense, the \"house\" of one or more deities.',\n",
       " 'Typically, offerings of some sort are made to the deity, and other rituals are enacted, and a special group of clergy maintain and operate the temple.',\n",
       " 'The degree to which the whole population of believers can access the building varies significantly; often parts, or even the whole main building.',\n",
       " 'can only be accessed by the clergy.',\n",
       " 'Temples typically have a main building and a larger precinct, which may contain many other buildings or may be a dome-shaped structure, much like an igloo.']"
      ]
     },
     "execution_count": 19,
     "metadata": {},
     "output_type": "execute_result"
    }
   ],
   "source": [
    "sent = nltk.sent_tokenize(para)\n",
    "sent"
   ]
  },
  {
   "cell_type": "code",
   "execution_count": 20,
   "metadata": {},
   "outputs": [],
   "source": [
    "from nltk.corpus import stopwords\n",
    "from nltk.stem import WordNetLemmatizer\n",
    "import re"
   ]
  },
  {
   "cell_type": "code",
   "execution_count": 21,
   "metadata": {},
   "outputs": [],
   "source": [
    "for i in range(len(sent)):\n",
    "    review = re.sub('[^a-zA-Z]', ' ', sent[i])\n",
    "    review = review.lower()\n",
    "    review = review.split()\n",
    "    wnl = WordNetLemmatizer()\n",
    "    review = [wnl.lemmatize(word) for word in review if not word in set(stopwords.words('english'))]\n",
    "    review = ' '.join(review)\n",
    "    sent[i] = review"
   ]
  },
  {
   "cell_type": "code",
   "execution_count": 22,
   "metadata": {},
   "outputs": [
    {
     "data": {
      "text/plain": [
       "['hrishikesh',\n",
       " 'mhy age studing mitwpu',\n",
       " 'ok',\n",
       " 'form function temple thus variable though often considered believer sense house one deity',\n",
       " 'typically offering sort made deity ritual enacted special group clergy maintain operate temple',\n",
       " 'degree whole population believer access building varies significantly often part even whole main building',\n",
       " 'accessed clergy',\n",
       " 'temple typically main building larger precinct may contain many building may dome shaped structure much like igloo']"
      ]
     },
     "execution_count": 22,
     "metadata": {},
     "output_type": "execute_result"
    }
   ],
   "source": [
    "sent"
   ]
  },
  {
   "cell_type": "code",
   "execution_count": null,
   "metadata": {},
   "outputs": [],
   "source": []
  }
 ],
 "metadata": {
  "kernelspec": {
   "display_name": "Python 3.10.7 64-bit (microsoft store)",
   "language": "python",
   "name": "python3"
  },
  "language_info": {
   "codemirror_mode": {
    "name": "ipython",
    "version": 3
   },
   "file_extension": ".py",
   "mimetype": "text/x-python",
   "name": "python",
   "nbconvert_exporter": "python",
   "pygments_lexer": "ipython3",
   "version": "3.10.8"
  },
  "orig_nbformat": 4,
  "vscode": {
   "interpreter": {
    "hash": "0376bea43f7b8eb193429db2b54842054cdffc92475d65efe4d200d71906e4bf"
   }
  }
 },
 "nbformat": 4,
 "nbformat_minor": 2
}
