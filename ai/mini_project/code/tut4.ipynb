{
 "cells": [
  {
   "cell_type": "code",
   "execution_count": 1256,
   "metadata": {},
   "outputs": [],
   "source": [
    "import numpy as np\n",
    "import nltk\n",
    "import re\n",
    "from nltk.stem import WordNetLemmatizer, PorterStemmer\n",
    "from nltk.corpus import stopwords"
   ]
  },
  {
   "cell_type": "code",
   "execution_count": 1257,
   "metadata": {},
   "outputs": [],
   "source": [
    "text=\"\"\"Fetch names of student whose 10th marks are greater\n",
    "than 85, 12th marks greater than 80 and aggregate is greater than 65\n",
    "in descending order. \"\"\"\n",
    "# text=\"\"\"count the number of students whose 10th marks are less than 35\"\"\"\n",
    "# text = \"\"\"fetch names of all states\"\"\"\n",
    "# text = \"\"\"fetch names of all states whose population is greater than 10000000 and less than 20000000\"\"\"\n",
    "# text = \"\"\"fetch first 3 names of all states whose population is between 10000000 and 20000000\"\"\"\n",
    "# text = \"\"\"what is the total population of state gujarat or rajasthan?\"\"\"\n",
    "# text = \"\"\"which city has the highest population?\"\"\"\n",
    "# text = \"\"\"which states has average population greater than 10000000?\"\"\" "
   ]
  },
  {
   "cell_type": "code",
   "execution_count": 1258,
   "metadata": {},
   "outputs": [],
   "source": [
    "ignore_list = [\"the\", \"a\", \"are\", \"is\", \"to\", \"in\", \"than\"]"
   ]
  },
  {
   "cell_type": "code",
   "execution_count": 1259,
   "metadata": {},
   "outputs": [],
   "source": [
    "def process_partial_dict(partial_dict):\n",
    "    lemmatizer = WordNetLemmatizer()\n",
    "    replacer = {}\n",
    "    for types in partial_dict_raw:\n",
    "        for key in partial_dict_raw[types]:\n",
    "            for word in partial_dict_raw[types][key]:\n",
    "                replacer[lemmatizer.lemmatize(word.lower())] = (key.lower(), types.lower())\n",
    "    return replacer"
   ]
  },
  {
   "cell_type": "code",
   "execution_count": 1260,
   "metadata": {},
   "outputs": [],
   "source": [
    "partial_dict_raw = {\n",
    "    \"select\":{\n",
    "        \"SELECT\": [\"SELECT\", \"FETCH\", \"GET\", \"SHOW\", \"LIST\", \"display\", \"which\"]\n",
    "    },\n",
    "    \"from\":{\n",
    "        \"FROM\": [\"FROM\", \"IN\", \"OF\"]\n",
    "    },\n",
    "    \"selector\":{\n",
    "        \"*\": [ \"ALL\"]\n",
    "    },\n",
    "    \"keyword\" : {\n",
    "        \"WHERE\": [\"WHERE\", \"IF\", \"WHEN\", \"IF\", \"WHEN\", \"WHOSE\"],\n",
    "        \"ORDER BY\": [\"ORDER BY\", \"SORT BY\", \"ORDER\", \"SORT\"],\n",
    "        \"AND\": [\"AND\", \"BOTH\", \"TOGETHER\"],\n",
    "        \"OR\": [\"OR\", \"EITHER\", \"ONE OF\"],\n",
    "        \"NOT\": [\"NOT\", \"NEITHER\", \"NONE OF\"],\n",
    "        \"LIMIT\": [\"LIMIT\", \"TOP\", \"FIRST\"],\n",
    "        \"OFFSET\": [\"OFFSET\", \"SKIP\", \"AFTER\"],\n",
    "        \"GROUP BY\": [\"GROUP BY\", \"GROUP\"],\n",
    "        \"HAVING\": [\"HAVING\", \"WITH\"],\n",
    "        \"DISTINCT\": [\"DISTINCT\", \"UNIQUE\"]\n",
    "    },\n",
    "    \"option\":{\n",
    "        \"DESC\": [\"DESC\", \"DESCENDING\", \"DECREASING\", \"DECREASE\"],\n",
    "        \"ASC\": [\"ASC\", \"ASCENDING\", \"INCREASING\", \"INCREASE\"]\n",
    "    },\n",
    "    \"function\":{\n",
    "        \"AVG\": [\"AVG\", \"AVERAGE\", \"MEAN\"],\n",
    "        \"COUNT\": [\"COUNT\", \"TOTAL\"],\n",
    "        \"MAX\": [\"MAX\", \"MAXIMUM\", \"HIGHEST\"],\n",
    "        \"MIN\": [\"MIN\", \"MINIMUM\", \"LOWEST\"],\n",
    "        \"SUM\": [\"SUM\", \"TOTAL\"]\n",
    "    },\n",
    "    \"operator\":{\n",
    "        \"LIKE\": [\"LIKE\", \"AS\"],\n",
    "        \"IN\": [\"IN\", \"WITHIN\"],\n",
    "        \"IS NULL\": [\"IS NULL\", \"IS EMPTY\", \"IS BLANK\"],\n",
    "        \"IS NOT NULL\": [\"IS NOT NULL\", \"IS NOT EMPTY\", \"IS NOT BLANK\"],\n",
    "        \"BETWEEN\": [\"BETWEEN\", \"IN BETWEEN\", \"WITHIN\"],\n",
    "        \"=\": [\"=\", \"EQUAL TO\", \"IS\"],\n",
    "        \">\": [\">\", \"GREATER\"],\n",
    "        \"<\": [\"<\", \"LESS\"],\n",
    "        \">=\": [\">=\", \"GREATER THAN EQUAL TO\"],\n",
    "        \"<=\": [\"<=\", \"LESS THAN EQUAL TO\"],\n",
    "        \"!=\": [\"!=\", \"NOT EQUAL TO\"],\n",
    "        \"*\": [\"*\", \"MULTIPLY\"],\n",
    "    }\n",
    "}\n",
    "\n",
    "replacer_dict = process_partial_dict(partial_dict_raw)"
   ]
  },
  {
   "cell_type": "code",
   "execution_count": 1261,
   "metadata": {},
   "outputs": [],
   "source": [
    "text = \" \".join([x for x in text.split() if x not in ignore_list])"
   ]
  },
  {
   "cell_type": "code",
   "execution_count": 1262,
   "metadata": {},
   "outputs": [
    {
     "data": {
      "text/plain": [
       "['Fetch',\n",
       " 'names',\n",
       " 'of',\n",
       " 'student',\n",
       " 'whose',\n",
       " '10th',\n",
       " 'marks',\n",
       " 'greater',\n",
       " '85',\n",
       " ',',\n",
       " '12th',\n",
       " 'marks',\n",
       " 'greater',\n",
       " '80',\n",
       " 'and',\n",
       " 'aggregate',\n",
       " 'greater',\n",
       " '65',\n",
       " 'descending',\n",
       " 'order',\n",
       " '.']"
      ]
     },
     "execution_count": 1262,
     "metadata": {},
     "output_type": "execute_result"
    }
   ],
   "source": [
    "# Tokenize the text\n",
    "tokens = nltk.word_tokenize(text)\n",
    "tokens"
   ]
  },
  {
   "cell_type": "code",
   "execution_count": 1263,
   "metadata": {},
   "outputs": [],
   "source": [
    "info = {\n",
    "    'tables': ['students', 'marks'],\n",
    "    'columns': {\n",
    "        'students': [('id', 'number'), ('name', 'string'),  ('age', 'number'),  ('marks_id', 'number')],\n",
    "        'marks': [('id', 'number'), ('10th', 'number'), ('12th', 'number'), ('aggregate', 'number')]\n",
    "    },\n",
    "    'foreign_keys': {\n",
    "        'students': {\n",
    "            'marks_id': 'marks'\n",
    "        }\n",
    "    }\n",
    "}\n",
    "\n",
    "# info = {\n",
    "#     'tables': ['city', 'state'],\n",
    "#     'columns': {\n",
    "#         'city': [('id', 'number'), ('name', 'string'), ('population', 'number'), ('state_id', 'number')],\n",
    "#         'state': [('id', 'number'), ('name', 'string')]\n",
    "#     },\n",
    "#     'foreign_keys': {\n",
    "#         'city': {\n",
    "#             'state_id': 'state'\n",
    "#         }\n",
    "#     }\n",
    "# }"
   ]
  },
  {
   "cell_type": "code",
   "execution_count": 1264,
   "metadata": {},
   "outputs": [
    {
     "data": {
      "text/plain": [
       "{'students': 0, 'marks': 0}"
      ]
     },
     "execution_count": 1264,
     "metadata": {},
     "output_type": "execute_result"
    }
   ],
   "source": [
    "selected_tables_dict = {}\n",
    "for table in info['tables']:\n",
    "    selected_tables_dict[table] = 0\n",
    "selected_tables_dict"
   ]
  },
  {
   "cell_type": "code",
   "execution_count": 1265,
   "metadata": {},
   "outputs": [],
   "source": [
    "lemmatizer = WordNetLemmatizer()"
   ]
  },
  {
   "cell_type": "code",
   "execution_count": 1266,
   "metadata": {},
   "outputs": [],
   "source": [
    "def getSimilar(x, y):\n",
    "    stemmer = PorterStemmer()\n",
    "    x = stemmer.stem(x)\n",
    "    for i in y:\n",
    "        if x == stemmer.stem(i):\n",
    "            return i\n",
    "    return None"
   ]
  },
  {
   "cell_type": "code",
   "execution_count": 1267,
   "metadata": {},
   "outputs": [],
   "source": [
    "def enrich(x, info, selected_tables_dict, check_all=False):\n",
    "    #check for keyword\n",
    "    y = getSimilar(x, replacer_dict.keys())\n",
    "    if y is not None:\n",
    "        return replacer_dict[y]\n",
    "\n",
    "    # check if its table name\n",
    "    y = getSimilar(x, info['tables'])\n",
    "    if y is not None:\n",
    "        selected_tables_dict[y] = 1\n",
    "        return (y, 'table')\n",
    "    # check if its column name\n",
    "\n",
    "    _table_list = [x for x in selected_tables_dict if selected_tables_dict[x] == 1] if not check_all else info['tables']\n",
    "\n",
    "    for table in _table_list:\n",
    "        y = getSimilar(x, [_x[0] for _x in info['columns'][table]])\n",
    "        if y is not None:\n",
    "            selected_tables_dict[table] = 1\n",
    "            return (f'{table}.{y}', 'column')\n",
    "    \n",
    "    # check if its a cardinal number\n",
    "    if x.isdigit():\n",
    "        return (x, 'number')\n",
    "    \n",
    "    # if strict check for type of attr\n",
    "    if check_all:\n",
    "        _table_list = [x for x in selected_tables_dict if selected_tables_dict[x] == 1] if not check_all else info['tables']\n",
    "        for table in _table_list:\n",
    "            for col in info['columns'][table]:\n",
    "                if col[1] == 'string':\n",
    "                    return (x, 'value', f'{col[0]}')\n",
    "\n",
    "    return x\n"
   ]
  },
  {
   "cell_type": "code",
   "execution_count": 1268,
   "metadata": {},
   "outputs": [
    {
     "name": "stdout",
     "output_type": "stream",
     "text": [
      "{'students': 1, 'marks': 1} \n",
      " [('select', 'select'), ('students.name', 'column'), ('from', 'from'), ('students', 'table'), ('where', 'keyword'), ('marks.10th', 'column'), ('marks', 'table'), ('>', 'operator'), ('85', 'number'), ('marks.12th', 'column'), ('marks', 'table'), ('>', 'operator'), ('80', 'number'), ('and', 'keyword'), ('marks.aggregate', 'column'), ('>', 'operator'), ('65', 'number'), ('desc', 'option'), ('order by', 'keyword')]\n"
     ]
    }
   ],
   "source": [
    "def parse_tokens(tokens, check_all = False):\n",
    "    for i in range(len(tokens)):\n",
    "        if isinstance(tokens[i], tuple):\n",
    "            continue\n",
    "        review = tokens[i]\n",
    "        review = re.sub('[^0-9a-zA-Z]', ' ', review)\n",
    "        review = review.lower()\n",
    "        review = lemmatizer.lemmatize(review, pos='v')\n",
    "        review = enrich(review, info, selected_tables_dict, check_all=check_all)\n",
    "        tokens[i] = review\n",
    "    return tokens\n",
    "\n",
    "tokens = parse_tokens(tokens)\n",
    "tokens = parse_tokens(tokens)\n",
    "tokens = parse_tokens(tokens, check_all=True)\n",
    "\n",
    "tokens = [x for x in tokens if not x[0].startswith(' ') ]\n",
    "print(selected_tables_dict,'\\n',tokens)\n",
    "# nltk.pos_tag(tokens)"
   ]
  },
  {
   "cell_type": "code",
   "execution_count": 1269,
   "metadata": {},
   "outputs": [
    {
     "data": {
      "text/plain": [
       "('highest', 'highest')"
      ]
     },
     "execution_count": 1269,
     "metadata": {},
     "output_type": "execute_result"
    }
   ],
   "source": [
    "WordNetLemmatizer().lemmatize('highest', pos='v'), PorterStemmer().stem('highest')"
   ]
  },
  {
   "cell_type": "code",
   "execution_count": 1270,
   "metadata": {},
   "outputs": [
    {
     "data": {
      "text/plain": [
       "[('select', 'select'),\n",
       " ('students.name', 'column'),\n",
       " ('from', 'from'),\n",
       " ('students', 'table'),\n",
       " ('where', 'keyword'),\n",
       " ('marks.10th', 'column'),\n",
       " ('marks', 'table'),\n",
       " ('>', 'operator'),\n",
       " ('85', 'number'),\n",
       " ('marks.12th', 'column'),\n",
       " ('marks', 'table'),\n",
       " ('>', 'operator'),\n",
       " ('80', 'number'),\n",
       " ('and', 'keyword'),\n",
       " ('marks.aggregate', 'column'),\n",
       " ('>', 'operator'),\n",
       " ('65', 'number'),\n",
       " ('desc', 'option'),\n",
       " ('order by', 'keyword')]"
      ]
     },
     "execution_count": 1270,
     "metadata": {},
     "output_type": "execute_result"
    }
   ],
   "source": [
    "def nlsql_partial_process(tokens):\n",
    "    tokens = [x if x not in replacer_dict.keys() else (replacer_dict[x][0].upper(),replacer_dict[x][1]) for x in tokens ]\n",
    "    return tokens\n",
    "\n",
    "tokens = nlsql_partial_process(tokens)\n",
    "tokens"
   ]
  },
  {
   "cell_type": "code",
   "execution_count": 1271,
   "metadata": {},
   "outputs": [
    {
     "data": {
      "text/plain": [
       "[('select', 'select'),\n",
       " ('students.name', 'column'),\n",
       " ('from', 'from'),\n",
       " ('students', 'table'),\n",
       " ('where', 'keyword'),\n",
       " ('marks.10th', 'column'),\n",
       " ('>', 'operator'),\n",
       " ('85', 'number'),\n",
       " ('marks.12th', 'column'),\n",
       " ('>', 'operator'),\n",
       " ('80', 'number'),\n",
       " ('and', 'keyword'),\n",
       " ('marks.aggregate', 'column'),\n",
       " ('>', 'operator'),\n",
       " ('65', 'number'),\n",
       " ('order by', 'keyword'),\n",
       " ('desc', 'option')]"
      ]
     },
     "execution_count": 1271,
     "metadata": {},
     "output_type": "execute_result"
    }
   ],
   "source": [
    "for i in range(len(tokens)-1):\n",
    "    if tokens[i][1] == 'option' and tokens[i+1][1] == 'keyword':\n",
    "        swap = tokens[i]\n",
    "        tokens[i] = tokens[i+1]\n",
    "        tokens[i+1] = swap\n",
    "\n",
    "# filter\n",
    "new_tokens = []\n",
    "no_table = False\n",
    "no_selectors = False\n",
    "\n",
    "for i in range(len(tokens)):\n",
    "    if not isinstance(tokens[i], tuple):\n",
    "        pass\n",
    "    elif not no_table and tokens[i][0] == 'where':\n",
    "        no_table = True\n",
    "        new_tokens.append(tokens[i])\n",
    "    elif not no_selectors and tokens[i][0] == 'from':\n",
    "        no_selectors = True\n",
    "        new_tokens.append(tokens[i])\n",
    "    elif no_selectors and tokens[i][1] == 'selector':\n",
    "        pass\n",
    "    elif no_table and tokens[i][1] == 'table':\n",
    "        pass\n",
    "\n",
    "    else:\n",
    "        new_tokens.append(tokens[i])\n",
    "\n",
    "tokens = new_tokens\n",
    "tokens"
   ]
  },
  {
   "cell_type": "code",
   "execution_count": 1272,
   "metadata": {},
   "outputs": [
    {
     "name": "stdout",
     "output_type": "stream",
     "text": [
      "0 ('select', 'select')\n",
      "1 ('students.name', 'column')\n",
      "2 ('from', 'from')\n",
      "3 ('students', 'table')\n",
      "4 ('where', 'keyword')\n",
      "5 ('marks.10th', 'column')\n",
      "6 ('>', 'operator')\n",
      "7 ('85', 'number')\n",
      "8 ('marks.12th', 'column')\n",
      "9 ('>', 'operator')\n",
      "10 ('80', 'number')\n",
      "11 ('and', 'keyword')\n",
      "12 ('marks.aggregate', 'column')\n",
      "13 ('>', 'operator')\n",
      "14 ('65', 'number')\n",
      "15 ('order by', 'keyword')\n",
      "16 ('desc', 'option')\n"
     ]
    },
    {
     "data": {
      "text/plain": [
       "'SELECT students.name FROM students, marks WHERE where marks.10th > 85 marks.12th > 80 and marks.aggregate > 65 order by desc'"
      ]
     },
     "execution_count": 1272,
     "metadata": {},
     "output_type": "execute_result"
    }
   ],
   "source": [
    "def final_query(tokens, selected_tables_dict):\n",
    "    query = \"SELECT{unique} {selectors} FROM {tables} WHERE\"\n",
    "\n",
    "    selectors = []\n",
    "    selector_replacer = \"\"\n",
    "    unique_val = \"\"\n",
    "\n",
    "    tables = selected_tables_dict.keys()\n",
    "    tables = [x for x in tables if selected_tables_dict[x] == 1]\n",
    "    table_replacer = \", \".join(tables)\n",
    "\n",
    "    select_flag = False\n",
    "    from_flag = False\n",
    "    limit_flag = None\n",
    "    previous_selected_column = None\n",
    "\n",
    "    i = 0\n",
    "    while i < len(tokens):\n",
    "        print(i, tokens[i])\n",
    "        if not select_flag and tokens[i][1] == 'select':\n",
    "            select_flag = True\n",
    "        if not from_flag and tokens[i][1] == 'from':\n",
    "            from_flag = True\n",
    "        if tokens[i][0] == 'distinct':\n",
    "            unique_val = ' DISTINCT'\n",
    "\n",
    "        if tokens[i][1] == 'function':\n",
    "            if tokens[i][0] == \"COUNT\":\n",
    "                if not select_flag:\n",
    "                    selectors.append('COUNT(*)')\n",
    "                    select_flag = True\n",
    "                else:\n",
    "                    pass\n",
    "            elif tokens[i][0] in [\"avg\", \"sum\"]:\n",
    "                if not select_flag:\n",
    "                    if tokens[i+1][1] == 'column':\n",
    "                        selectors.append(f'{tokens[i][0].upper()}({tokens[i+1][0]})')\n",
    "                        i+=1\n",
    "                    select_flag = True\n",
    "                else:\n",
    "                    part_condition = f'{tokens[i][0].upper()}'\n",
    "                    if tokens[i+1][1] == 'column':\n",
    "                        part_condition += f'({tokens[i+1][0]})'\n",
    "                        i+=1\n",
    "                    else:\n",
    "                        part_condition += f'({previous_selected_column})'\n",
    "                    if tokens[i+1][1] == 'operator':\n",
    "                        part_condition += f' {tokens[i+1][0]}'\n",
    "                        i+=1\n",
    "                    if tokens[i+1][1] == 'number':\n",
    "                        part_condition += f' {tokens[i+1][0]}'\n",
    "                    else:\n",
    "                        part_condition += f\" '{tokens[i+1][0]}'\"\n",
    "                    i+=1\n",
    "                    query += f' AND {part_condition}' if query[-5:] != 'WHERE' else f' {part_condition}'\n",
    "                    \n",
    "            elif tokens[i][0] in [\"min\",\"max\"]:\n",
    "                if tokens[i+1][1] == 'column':\n",
    "                    selectors.append(f'{tokens[i][0].upper()}({tokens[i+1][0]})')\n",
    "                    i+=1\n",
    "                select_flag = True\n",
    "\n",
    "        elif tokens[i][0] == 'limit':\n",
    "            if tokens[i+1][1] == 'number':\n",
    "                limit_flag = tokens[i+1][0]\n",
    "            else:\n",
    "                limit_flag = 1\n",
    "\n",
    "        elif select_flag and not from_flag:\n",
    "            if tokens[i][0] == '*':\n",
    "                selectors.append('*')\n",
    "            elif tokens[i][1] == 'column':\n",
    "                selectors = [x for x in selectors if x != '*']\n",
    "                selectors.append(tokens[i][0])\n",
    "            \n",
    "            \n",
    "\n",
    "        elif from_flag:\n",
    "            \n",
    "            if tokens[i][1] in ['from', 'table']:\n",
    "                pass\n",
    "            elif tokens[i][1] == 'keyword' and tokens[i][0] == 'WHERE':\n",
    "                query += \" WHERE\"\n",
    "            elif tokens[i][1] == 'keyword' and tokens[i][0] == 'ORDER BY':\n",
    "                query += \" ORDER BY \" + f\"{tables[0]}.{info['columns'][tables[0]][0]}\"\n",
    "            elif tokens[i][1] == 'value':\n",
    "                col_name = tokens[i][2]\n",
    "                if tokens[i-1][1] == 'table':\n",
    "                    col_name = f\"{tokens[i-1][0]}.{col_name}\"\n",
    "                    previous_selected_column = col_name\n",
    "                elif i+1 < len(tokens) and tokens[i+1][1] == 'table':\n",
    "                    col_name = f\"{tokens[i+1][0]}.{col_name}\"\n",
    "                    previous_selected_column = col_name\n",
    "                else:\n",
    "                    col_name = previous_selected_column\n",
    "\n",
    "                query += f\" {col_name} = '{tokens[i][0]}'\"\n",
    "\n",
    "            else:\n",
    "                if tokens[i][1] == 'operator':\n",
    "                    if tokens[i-1][1] != 'column':\n",
    "                        query += f\" {previous_selected_column[0]}\"\n",
    "                    else:\n",
    "                        previous_selected_column = tokens[i-1]\n",
    "                query += \" \"+tokens[i][0]\n",
    "        \n",
    "        i+=1\n",
    "    \n",
    "    if limit_flag is not None:\n",
    "        query += f\" LIMIT {limit_flag}\"\n",
    "\n",
    "    if len(selectors) == 0:\n",
    "        selectors.append('*')\n",
    "    selector_replacer = \", \".join(selectors)\n",
    "\n",
    "    if query.split('WHERE')[1] == '':\n",
    "        query = query.split('WHERE')[0].strip()\n",
    "    return query.format(unique=unique_val,selectors=selector_replacer, tables=table_replacer)\n",
    "\n",
    "final_query(tokens, selected_tables_dict)"
   ]
  },
  {
   "cell_type": "code",
   "execution_count": null,
   "metadata": {},
   "outputs": [],
   "source": []
  }
 ],
 "metadata": {
  "kernelspec": {
   "display_name": "Python 3.10.7 64-bit (microsoft store)",
   "language": "python",
   "name": "python3"
  },
  "language_info": {
   "codemirror_mode": {
    "name": "ipython",
    "version": 3
   },
   "file_extension": ".py",
   "mimetype": "text/x-python",
   "name": "python",
   "nbconvert_exporter": "python",
   "pygments_lexer": "ipython3",
   "version": "3.10.8"
  },
  "orig_nbformat": 4,
  "vscode": {
   "interpreter": {
    "hash": "0376bea43f7b8eb193429db2b54842054cdffc92475d65efe4d200d71906e4bf"
   }
  }
 },
 "nbformat": 4,
 "nbformat_minor": 2
}
